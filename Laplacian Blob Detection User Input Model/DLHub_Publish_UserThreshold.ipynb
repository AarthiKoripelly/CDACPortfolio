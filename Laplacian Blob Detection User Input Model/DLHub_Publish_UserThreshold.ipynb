{
 "cells": [
  {
   "cell_type": "code",
   "execution_count": 1,
   "metadata": {},
   "outputs": [],
   "source": [
    "from dlhub_sdk.models.servables.python import PythonStaticMethodModel, PythonClassMethodModel\n",
    "from dlhub_sdk.utils.schemas import validate_against_dlhub_schema\n",
    "from dlhub_sdk.utils.types import compose_argument_block\n",
    "from fair_research_login import NativeClient\n",
    "from home_run.version import __version__\n",
    "from unittest import TestCase\n",
    "from tempfile import mkstemp\n",
    "from platform import system\n",
    "import pickle as pkl\n",
    "import numpy as np\n",
    "import requests\n",
    "import json\n",
    "import sys\n",
    "\n",
    "from home_run.python import PythonStaticMethodServable, PythonClassMethodServable"
   ]
  },
  {
   "cell_type": "code",
   "execution_count": 2,
   "metadata": {},
   "outputs": [
    {
     "name": "stderr",
     "output_type": "stream",
     "text": [
      "Using TensorFlow backend.\n"
     ]
    }
   ],
   "source": [
    "import pandas as pd\n",
    "import cv2 \n",
    "import scipy\n",
    "import matplotlib.pyplot as plt\n",
    "\n",
    "import os\n",
    "import os.path\n",
    "import random \n",
    "\n",
    "from math import sqrt\n",
    "from skimage import data\n",
    "from skimage.feature import blob_log\n",
    "from skimage.color import rgb2gray"
   ]
  },
  {
   "cell_type": "code",
   "execution_count": 9,
   "metadata": {
    "scrolled": true
   },
   "outputs": [
    {
     "name": "stdout",
     "output_type": "stream",
     "text": [
      "from __future__ import print_function\r\n",
      "import numpy as np\r\n",
      "import pandas as pd\r\n",
      "import cv2 \r\n",
      "import scipy\r\n",
      "\r\n",
      "import matplotlib.pyplot as plt; plt.rcdefaults()\r\n",
      "import numpy as np\r\n",
      "import matplotlib.pyplot as plt\r\n",
      "\r\n",
      "import os\r\n",
      "import os.path\r\n",
      "import random \r\n",
      "\r\n",
      "from math import sqrt\r\n",
      "from skimage import data\r\n",
      "from skimage.feature import blob_log\r\n",
      "from skimage.color import rgb2gray\r\n",
      "\r\n",
      "from keras.models import model_from_json\r\n",
      "from sklearn.preprocessing import StandardScaler\r\n",
      "\r\n",
      "\r\n",
      "from testing import check_shape \r\n",
      "\r\n",
      "def analyze_image(image):\r\n",
      "    # Model reconstruction from JSON file\r\n",
      "    with open('model.json', 'r') as f:\r\n",
      "        model = model_from_json(f.read())\r\n",
      "\r\n",
      "    # Load weights into the new model\r\n",
      "    model.load_weights('model.h5')\r\n",
      "    \r\n",
      "    data = check_shape(image)\r\n",
      "    x = np.array(data).reshape((-1,1))\r\n",
      "    \r\n",
      "    sc = StandardScaler()\r\n",
      "    x = sc.fit_transform(x)\r\n",
      "    \r\n",
      "    x = np.array(data).reshape((1,6))\r\n",
      "    \r\n",
      "    prediction = model.predict(x)\r\n",
      "    \r\n",
      "    if (prediction <1): \r\n",
      "        return False \r\n",
      "    else:\r\n",
      "        return True\r\n"
     ]
    }
   ],
   "source": [
    "!cat main.py"
   ]
  },
  {
   "cell_type": "code",
   "execution_count": null,
   "metadata": {},
   "outputs": [],
   "source": [
    "from main import analyze_image"
   ]
  },
  {
   "cell_type": "code",
   "execution_count": 12,
   "metadata": {},
   "outputs": [],
   "source": [
    "# Make the metadata file\n",
    "model = PythonStaticMethodModel.create_model('file', 'analyze_image')\n",
    "model.set_title('SEM Predict Function')\n",
    "model.set_name('braincountTF')\n",
    "model.set_domains([\"general\",\"machinelearning\"])\n",
    "\n",
    "model.add_files('main.py')\n",
    "model.add_files('requirements.txt')\n",
    "\n",
    "# Add provenance information\n",
    "model.set_authors([\"Koripelly, Aarthi\"], [\"University of Chicago\"])\n",
    "model.set_abstract(\"A function and ML model to predict if SEM image is focused or blurry.\")\n",
    "\n",
    "# Set the input type to file\n",
    "model.set_inputs('file', 'A file')\n",
    "model.set_outputs('boolean', 'Output')\n",
    "\n",
    "# Make the servable\n",
    "servable = PythonStaticMethodServable(**model.to_dict())"
   ]
  },
  {
   "cell_type": "code",
   "execution_count": 13,
   "metadata": {},
   "outputs": [],
   "source": [
    "# Login and get a token for Petrel HTTPS\n",
    "client = NativeClient(client_id='7414f0b4-7d05-4bb6-bb00-076fa3f17cf5')\n",
    "tokens = client.login(requested_scopes=['https://auth.globus.org/scopes/56ceac29-e98a-440a-a594-b41e7a084b62/all'])\n",
    "auth_token = tokens[\"petrel_https_server\"]['access_token']\n",
    "headers = {'Authorization': f'Bearer {auth_token}'}"
   ]
  },
  {
   "cell_type": "code",
   "execution_count": 17,
   "metadata": {},
   "outputs": [],
   "source": [
    "import dlhub_sdk\n",
    "dl = dlhub_sdk.DLHubClient()"
   ]
  },
  {
   "cell_type": "code",
   "execution_count": 18,
   "metadata": {},
   "outputs": [
    {
     "data": {
      "text/plain": [
       "{'datacite': {'creators': [{'givenName': 'Aarthi',\n",
       "    'familyName': 'Koripelly',\n",
       "    'affiliations': 'University of Chicago'}],\n",
       "  'titles': [{'title': 'SEM Predict Function'}],\n",
       "  'publisher': 'DLHub',\n",
       "  'publicationYear': '2019',\n",
       "  'identifier': {'identifier': '10.YET/UNASSIGNED', 'identifierType': 'DOI'},\n",
       "  'descriptions': [{'description': 'A function and ML model to predict if SEM image is focused or blurry.',\n",
       "    'descriptionType': 'Abstract'}],\n",
       "  'fundingReferences': [],\n",
       "  'relatedIdentifiers': [],\n",
       "  'alternateIdentifiers': [],\n",
       "  'rightsList': [],\n",
       "  'resourceType': {'resourceTypeGeneral': 'InteractiveResource'}},\n",
       " 'dlhub': {'version': '0.8.0',\n",
       "  'domains': ['general', 'machinelearning'],\n",
       "  'visible_to': ['public'],\n",
       "  'name': 'SEM',\n",
       "  'files': {'other': ['model.h5',\n",
       "    'testing.py',\n",
       "    'model.json',\n",
       "    'file.py',\n",
       "    'testing.py',\n",
       "    'requirements.txt']},\n",
       "  'type': 'servable'},\n",
       " 'servable': {'methods': {'run': {'input': {'type': 'file',\n",
       "     'description': 'A file'},\n",
       "    'output': {'type': 'float', 'description': 'Output'},\n",
       "    'parameters': {},\n",
       "    'method_details': {'method_name': 'analyze_image',\n",
       "     'module': 'file',\n",
       "     'autobatch': False}}},\n",
       "  'shim': 'python.PythonStaticMethodServable',\n",
       "  'type': 'Python static method'}}"
      ]
     },
     "execution_count": 18,
     "metadata": {},
     "output_type": "execute_result"
    }
   ],
   "source": [
    "model.to_dict()"
   ]
  },
  {
   "cell_type": "code",
   "execution_count": 19,
   "metadata": {},
   "outputs": [],
   "source": [
    "task_id = dl.publish_servable(model)"
   ]
  },
  {
   "cell_type": "code",
   "execution_count": 20,
   "metadata": {},
   "outputs": [
    {
     "data": {
      "text/plain": [
       "'36845b32-f790-489c-a6d5-8bb3edeea2c8'"
      ]
     },
     "execution_count": 20,
     "metadata": {},
     "output_type": "execute_result"
    }
   ],
   "source": [
    "task_id"
   ]
  },
  {
   "cell_type": "code",
   "execution_count": 21,
   "metadata": {},
   "outputs": [
    {
     "name": "stdout",
     "output_type": "stream",
     "text": [
      "[{'datacite': {'creators': [{'affiliations': 'University of Chicago', 'familyName': 'Koripelly', 'givenName': 'Aarthi'}], 'descriptions': [{'description': 'A function and ML model to predict if SEM image is focused or blurry.', 'descriptionType': 'Abstract'}], 'identifier': {'identifier': '10.YET/UNASSIGNED', 'identifierType': 'DOI'}, 'publicationYear': '2019', 'publisher': 'DLHub', 'resourceType': {'resourceTypeGeneral': 'InteractiveResource'}, 'titles': [{'title': 'SEM Predict Function'}]}, 'dlhub': {'build_location': '/mnt/dlhub_ingest/f99b800d-8f6d-4031-ac56-437e40dd2d14-1563979798', 'domains': ['general', 'machinelearning'], 'ecr_arn': 'arn:aws:ecr:us-east-1:039706667969:repository/f99b800d-8f6d-4031-ac56-437e40dd2d14', 'ecr_uri': '039706667969.dkr.ecr.us-east-1.amazonaws.com/f99b800d-8f6d-4031-ac56-437e40dd2d14', 'files': {'other': ['model.h5', 'testing.py', 'model.json', 'file.py', 'testing.py', 'requirements.txt']}, 'funcx_id': '875519b6-8d52-4802-9dcf-dd97dbd4721a', 'id': 'f99b800d-8f6d-4031-ac56-437e40dd2d14', 'name': 'SEM', 'owner': 'akoripelly_gmail', 'publication_date': '1563979798440', 'shorthand_name': 'akoripelly_gmail/SEM', 'transfer_method': {'POST': 'file', 'path': '/mnt/tmp/servable.zip'}, 'type': 'servable', 'user_id': '18', 'version': '0.8.0', 'visible_to': ['public']}, 'servable': {'methods': {'run': {'input': {'description': 'A file', 'type': 'file'}, 'method_details': {'autobatch': False, 'method_name': 'analyze_image', 'module': 'file'}, 'output': {'description': 'Output', 'type': 'float'}}}, 'shim': 'python.PythonStaticMethodServable', 'type': 'Python static method'}}, {'datacite': {'creators': [{'affiliations': 'University of Chicago', 'familyName': 'Koripelly', 'givenName': 'Aarthi'}], 'descriptions': [{'description': 'A function and ML model to predict if SEM image is focused or blurry.', 'descriptionType': 'Abstract'}], 'identifier': {'identifier': '10.YET/UNASSIGNED', 'identifierType': 'DOI'}, 'publicationYear': '2019', 'publisher': 'DLHub', 'resourceType': {'resourceTypeGeneral': 'InteractiveResource'}, 'titles': [{'title': 'SEM Predict Function'}]}, 'dlhub': {'build_location': '/mnt/dlhub_ingest/774a712f-b8ec-48bb-9764-46b5a1e44c98-1563564036', 'domains': ['general', 'machinelearning'], 'ecr_arn': 'arn:aws:ecr:us-east-1:039706667969:repository/774a712f-b8ec-48bb-9764-46b5a1e44c98', 'ecr_uri': '039706667969.dkr.ecr.us-east-1.amazonaws.com/774a712f-b8ec-48bb-9764-46b5a1e44c98', 'files': {'other': ['model.h5', 'testing.py', 'model.json', 'file.py', 'testing.py', 'requirements.txt']}, 'funcx_id': 'f49f617c-fa0f-48b1-9904-8640dcd5c97a', 'id': '774a712f-b8ec-48bb-9764-46b5a1e44c98', 'name': 'SEM', 'owner': 'None', 'publication_date': '1563564036427', 'shorthand_name': 'None/SEM', 'transfer_method': {'POST': 'file', 'path': '/mnt/tmp/servable.zip'}, 'type': 'servable', 'user_id': 'None', 'version': '0.8.0', 'visible_to': ['public']}, 'servable': {'methods': {'run': {'input': {'description': 'A file', 'type': 'file'}, 'method_details': {'autobatch': False, 'method_name': 'analyze_image', 'module': 'file'}, 'output': {'description': 'Output', 'type': 'float'}}}, 'shim': 'python.PythonStaticMethodServable', 'type': 'Python static method'}}]\n",
      "akoripelly_gmail/SEM\n"
     ]
    }
   ],
   "source": [
    "df_serv = dl.search_by_servable(servable_name=\"braincountTF\")\n",
    "print(df_serv)\n",
    "servable_name = df_serv[0]['dlhub']['shorthand_name']\n",
    "print(servable_name)"
   ]
  }
 ],
 "metadata": {
  "kernelspec": {
   "display_name": "Python 3",
   "language": "python",
   "name": "python3"
  },
  "language_info": {
   "codemirror_mode": {
    "name": "ipython",
    "version": 3
   },
   "file_extension": ".py",
   "mimetype": "text/x-python",
   "name": "python",
   "nbconvert_exporter": "python",
   "pygments_lexer": "ipython3",
   "version": "3.7.3"
  }
 },
 "nbformat": 4,
 "nbformat_minor": 2
}
